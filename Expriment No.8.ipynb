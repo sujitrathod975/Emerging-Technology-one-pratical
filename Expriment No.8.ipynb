{
 "cells": [
  {
   "cell_type": "markdown",
   "id": "8ed99db5-b673-4957-80dc-644c1896a04f",
   "metadata": {},
   "source": [
    "Central Tendancy of measures (Mean, Median, Mode )"
   ]
  },
  {
   "cell_type": "code",
   "execution_count": 2,
   "id": "82d09c15-4f86-4072-a31c-3546418a6f5d",
   "metadata": {},
   "outputs": [],
   "source": [
    "#Aim : To find Central Tendancy of measures (Mean, Median, Mode)"
   ]
  },
  {
   "cell_type": "code",
   "execution_count": 4,
   "id": "e04cb075-b37b-4786-b367-720a4b31cfbf",
   "metadata": {},
   "outputs": [],
   "source": [
    "#Name : SUJIT MAHADEV RATHOD\n",
    "#Section : 3B\n",
    "#Roll No.:37\n",
    "#Subject : PE-I\n",
    "# Date :09/09/2024"
   ]
  },
  {
   "cell_type": "code",
   "execution_count": 8,
   "id": "8bf5d48e-5185-4b0e-9567-f4df00868712",
   "metadata": {},
   "outputs": [],
   "source": [
    "age=[21,22,25,23,24,26,25,25,28,29,27,29,26,24,23,23,23,21,23]"
   ]
  },
  {
   "cell_type": "code",
   "execution_count": 10,
   "id": "48b661ee-d95e-415e-9f53-5569d8bae5dc",
   "metadata": {},
   "outputs": [
    {
     "data": {
      "text/plain": [
       "[21, 22, 25, 23, 24, 26, 25, 25, 28, 29, 27, 29, 26, 24, 23, 23, 23, 21, 23]"
      ]
     },
     "execution_count": 10,
     "metadata": {},
     "output_type": "execute_result"
    }
   ],
   "source": [
    "age"
   ]
  },
  {
   "cell_type": "code",
   "execution_count": 12,
   "id": "b361e1a4-36a0-4d48-87a1-d9ef82918e7e",
   "metadata": {},
   "outputs": [],
   "source": [
    "import statistics"
   ]
  },
  {
   "cell_type": "code",
   "execution_count": 14,
   "id": "6a2a477e-a904-4357-8994-6b1bb104b13d",
   "metadata": {},
   "outputs": [],
   "source": [
    "Mean=statistics.mean(age)"
   ]
  },
  {
   "cell_type": "code",
   "execution_count": 18,
   "id": "16883ede-cec2-4b1a-9585-e5e870bdefa1",
   "metadata": {},
   "outputs": [
    {
     "data": {
      "text/plain": [
       "24.57894736842105"
      ]
     },
     "execution_count": 18,
     "metadata": {},
     "output_type": "execute_result"
    }
   ],
   "source": [
    "Mean"
   ]
  },
  {
   "cell_type": "code",
   "execution_count": 20,
   "id": "37c44c6b-bdea-432b-8344-6ef914c50aee",
   "metadata": {},
   "outputs": [],
   "source": [
    "Median=statistics.median(age)"
   ]
  },
  {
   "cell_type": "code",
   "execution_count": 22,
   "id": "a6436c08-0d31-473c-9e3f-f948d93b58f7",
   "metadata": {},
   "outputs": [
    {
     "data": {
      "text/plain": [
       "24"
      ]
     },
     "execution_count": 22,
     "metadata": {},
     "output_type": "execute_result"
    }
   ],
   "source": [
    "Median"
   ]
  },
  {
   "cell_type": "code",
   "execution_count": 24,
   "id": "284a16c5-7200-42ed-bd5c-95e06135ff4e",
   "metadata": {},
   "outputs": [],
   "source": [
    "Mode=statistics.mode(age)"
   ]
  },
  {
   "cell_type": "code",
   "execution_count": 26,
   "id": "efb24277-f55c-4143-95ec-e5b02289ff34",
   "metadata": {},
   "outputs": [
    {
     "data": {
      "text/plain": [
       "23"
      ]
     },
     "execution_count": 26,
     "metadata": {},
     "output_type": "execute_result"
    }
   ],
   "source": [
    "Mode"
   ]
  },
  {
   "cell_type": "code",
   "execution_count": null,
   "id": "a2c04499-7931-405f-b539-255d8674bbc5",
   "metadata": {},
   "outputs": [],
   "source": []
  }
 ],
 "metadata": {
  "kernelspec": {
   "display_name": "Python 3 (ipykernel)",
   "language": "python",
   "name": "python3"
  },
  "language_info": {
   "codemirror_mode": {
    "name": "ipython",
    "version": 3
   },
   "file_extension": ".py",
   "mimetype": "text/x-python",
   "name": "python",
   "nbconvert_exporter": "python",
   "pygments_lexer": "ipython3",
   "version": "3.12.4"
  }
 },
 "nbformat": 4,
 "nbformat_minor": 5
}
