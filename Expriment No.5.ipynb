{
 "cells": [
  {
   "cell_type": "markdown",
   "id": "c9c7e1f8-102e-44a9-b3e9-b15077bfdaad",
   "metadata": {},
   "source": [
    "Creation of Array (1D,2D and Multidimennsional array)\n"
   ]
  },
  {
   "cell_type": "code",
   "execution_count": 2,
   "id": "44d7569c-efd2-4b07-ab3b-ce9a666fb24a",
   "metadata": {},
   "outputs": [],
   "source": [
    "#Aim :   To Perform Operation on Creation of Array (1D,2D and Multidimennsional array) using numpy"
   ]
  },
  {
   "cell_type": "code",
   "execution_count": 4,
   "id": "0c9b63ba-4758-479d-b7e7-99569bd84073",
   "metadata": {},
   "outputs": [],
   "source": [
    "#Name : SUJIT MAHADEV RATHOD\n",
    "#Section : 3B\n",
    "#Roll No.:37\n",
    "#Subject : PE-I\n",
    "# Date :03/08/2024"
   ]
  },
  {
   "cell_type": "code",
   "execution_count": 6,
   "id": "48286995-84dd-42d9-a5f7-38df4888858c",
   "metadata": {},
   "outputs": [],
   "source": [
    "import numpy as np"
   ]
  },
  {
   "cell_type": "code",
   "execution_count": 32,
   "id": "27e9df9c-22ed-4bc0-aef0-355fa305a494",
   "metadata": {},
   "outputs": [],
   "source": [
    "arr1=np.array([10,20,30,40,50])\n"
   ]
  },
  {
   "cell_type": "code",
   "execution_count": 34,
   "id": "45a6b0d4-98fc-419a-9b3e-d5ddfba96904",
   "metadata": {},
   "outputs": [
    {
     "data": {
      "text/plain": [
       "array([1, 2, 3, 4, 5, 6])"
      ]
     },
     "execution_count": 34,
     "metadata": {},
     "output_type": "execute_result"
    }
   ],
   "source": [
    "arr"
   ]
  },
  {
   "cell_type": "code",
   "execution_count": 36,
   "id": "41b0fd78-574e-4e88-8bc6-a1675e22c6d0",
   "metadata": {},
   "outputs": [
    {
     "data": {
      "text/plain": [
       "array([[10, 20, 30, 40, 50],\n",
       "       [14, 25, 35, 45, 55]])"
      ]
     },
     "execution_count": 36,
     "metadata": {},
     "output_type": "execute_result"
    }
   ],
   "source": [
    "arr2=np.array([[10,20,30,40,50],[14,25,35,45,55]])\n",
    "arr2"
   ]
  },
  {
   "cell_type": "code",
   "execution_count": 38,
   "id": "d10b0b9b-5ef1-464e-a64c-87e8a1f67aa7",
   "metadata": {},
   "outputs": [],
   "source": [
    "arr=np.arange(1,5)\n"
   ]
  },
  {
   "cell_type": "code",
   "execution_count": 40,
   "id": "8cb7363c-f942-4a86-97aa-ab49fade2192",
   "metadata": {},
   "outputs": [
    {
     "data": {
      "text/plain": [
       "array([1, 2, 3, 4])"
      ]
     },
     "execution_count": 40,
     "metadata": {},
     "output_type": "execute_result"
    }
   ],
   "source": [
    "arr"
   ]
  },
  {
   "cell_type": "code",
   "execution_count": 42,
   "id": "70cc895e-f7c5-407f-88ba-1cef01fba3f9",
   "metadata": {},
   "outputs": [
    {
     "name": "stdout",
     "output_type": "stream",
     "text": [
      "[3 4]\n"
     ]
    }
   ],
   "source": [
    "print(arr[2:4])\n"
   ]
  },
  {
   "cell_type": "code",
   "execution_count": 44,
   "id": "cf28b17c-c81c-4aaa-af59-15406490aa3e",
   "metadata": {},
   "outputs": [
    {
     "name": "stdout",
     "output_type": "stream",
     "text": [
      "[1 2 3 4]\n"
     ]
    }
   ],
   "source": [
    "print(arr[:5])\n"
   ]
  },
  {
   "cell_type": "code",
   "execution_count": 46,
   "id": "cf252a06-f346-4748-b13b-abd47d5d33ab",
   "metadata": {},
   "outputs": [
    {
     "data": {
      "text/plain": [
       "array([1, 2, 3, 4])"
      ]
     },
     "execution_count": 46,
     "metadata": {},
     "output_type": "execute_result"
    }
   ],
   "source": [
    "arr"
   ]
  },
  {
   "cell_type": "code",
   "execution_count": 50,
   "id": "7ac3a03f-6c27-4584-a33a-e6b3328201aa",
   "metadata": {},
   "outputs": [],
   "source": [
    "arr3=arr1+arr2"
   ]
  },
  {
   "cell_type": "code",
   "execution_count": 54,
   "id": "bb503d16-323a-4385-b967-19b1e5a1b220",
   "metadata": {},
   "outputs": [],
   "source": [
    "arrarr1=np.array((13,43,65,23,78))\n",
    "arr2=np.array((23,45,64,12,98))\n",
    "arr3=arr1+arr2\n"
   ]
  },
  {
   "cell_type": "code",
   "execution_count": 56,
   "id": "3739a058-bff4-433c-a4e6-d22fe7e321e1",
   "metadata": {},
   "outputs": [
    {
     "data": {
      "text/plain": [
       "array([ 36,  88, 129,  35, 176])"
      ]
     },
     "execution_count": 56,
     "metadata": {},
     "output_type": "execute_result"
    }
   ],
   "source": [
    "arr3"
   ]
  },
  {
   "cell_type": "code",
   "execution_count": null,
   "id": "7d451a88-6207-4434-9958-777731fad28d",
   "metadata": {},
   "outputs": [],
   "source": []
  }
 ],
 "metadata": {
  "kernelspec": {
   "display_name": "Python 3 (ipykernel)",
   "language": "python",
   "name": "python3"
  },
  "language_info": {
   "codemirror_mode": {
    "name": "ipython",
    "version": 3
   },
   "file_extension": ".py",
   "mimetype": "text/x-python",
   "name": "python",
   "nbconvert_exporter": "python",
   "pygments_lexer": "ipython3",
   "version": "3.12.4"
  }
 },
 "nbformat": 4,
 "nbformat_minor": 5
}
